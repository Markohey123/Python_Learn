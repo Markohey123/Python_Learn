{
 "cells": [
  {
   "cell_type": "markdown",
   "id": "464f6215",
   "metadata": {},
   "source": [
    "# Celsius to Fahrenheit converter"
   ]
  },
  {
   "cell_type": "code",
   "execution_count": 2,
   "id": "d3f3745e",
   "metadata": {},
   "outputs": [
    {
     "name": "stdout",
     "output_type": "stream",
     "text": [
      "Celsius: 40.2\n",
      "Fahrenheit:  104.36000000000001\n"
     ]
    }
   ],
   "source": [
    "celsius = float(input(\"Celsius: \"))\n",
    "fahr = celsius*(9/5) + 32\n",
    "\n",
    "print(\"Fahrenheit: \", fahr)"
   ]
  },
  {
   "cell_type": "code",
   "execution_count": null,
   "id": "8d339b37",
   "metadata": {},
   "outputs": [],
   "source": []
  }
 ],
 "metadata": {
  "kernelspec": {
   "display_name": "Python 3 (ipykernel)",
   "language": "python",
   "name": "python3"
  },
  "language_info": {
   "codemirror_mode": {
    "name": "ipython",
    "version": 3
   },
   "file_extension": ".py",
   "mimetype": "text/x-python",
   "name": "python",
   "nbconvert_exporter": "python",
   "pygments_lexer": "ipython3",
   "version": "3.9.12"
  }
 },
 "nbformat": 4,
 "nbformat_minor": 5
}
