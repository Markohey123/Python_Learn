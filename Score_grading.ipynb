{
 "cells": [
  {
   "cell_type": "markdown",
   "id": "606d3e5b",
   "metadata": {},
   "source": [
    "# From a numeric input this program determines its appropriate grade"
   ]
  },
  {
   "cell_type": "code",
   "execution_count": 7,
   "id": "2ea1fcea",
   "metadata": {},
   "outputs": [
    {
     "name": "stdout",
     "output_type": "stream",
     "text": [
      "Please input a score between and including 0.0 and 1.0: 0.3\n",
      "F\n"
     ]
    }
   ],
   "source": [
    "score = input(\"Please input a score between and including 0.0 and 1.0: \")\n",
    "error = \"Bad score!\"\n",
    "\n",
    "try:\n",
    "    score = float(score)\n",
    "    if score >= 0.0 and score <= 1.0:\n",
    "        if score >= 0.9:\n",
    "            grade = 'A'\n",
    "        elif score >= 0.8:\n",
    "            grade = 'B'\n",
    "        elif score >= 0.7:\n",
    "            grade = 'C'\n",
    "        elif score >= 0.6:\n",
    "            grade = 'D'\n",
    "        elif score < 0.6:\n",
    "            grade = 'F'\n",
    "    else:\n",
    "        print(error)\n",
    "        \n",
    "    print(grade)\n",
    "    \n",
    "except:\n",
    "    print(error)"
   ]
  },
  {
   "cell_type": "code",
   "execution_count": null,
   "id": "7e9c7d75",
   "metadata": {},
   "outputs": [],
   "source": []
  }
 ],
 "metadata": {
  "kernelspec": {
   "display_name": "Python 3 (ipykernel)",
   "language": "python",
   "name": "python3"
  },
  "language_info": {
   "codemirror_mode": {
    "name": "ipython",
    "version": 3
   },
   "file_extension": ".py",
   "mimetype": "text/x-python",
   "name": "python",
   "nbconvert_exporter": "python",
   "pygments_lexer": "ipython3",
   "version": "3.9.12"
  }
 },
 "nbformat": 4,
 "nbformat_minor": 5
}
