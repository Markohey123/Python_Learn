{
 "cells": [
  {
   "cell_type": "markdown",
   "id": "c1e307ce",
   "metadata": {},
   "source": [
    "# This program calculates a gross wage depending on the hours and wage of an employee"
   ]
  },
  {
   "cell_type": "code",
   "execution_count": 5,
   "id": "e9a01c0d",
   "metadata": {},
   "outputs": [
    {
     "name": "stdout",
     "output_type": "stream",
     "text": [
      "Enter Hours: 40\n",
      "Enter Rate: 23\n",
      "Pay:  920\n"
     ]
    }
   ],
   "source": [
    "hours = int(input(\"Enter Hours: \"))\n",
    "rate = int(input(\"Enter Rate: \"))\n",
    "pay = hours*rate\n",
    "print(\"Pay: \", round(pay, 8))"
   ]
  },
  {
   "cell_type": "markdown",
   "id": "a6899b98",
   "metadata": {},
   "source": [
    "## In this second part the employee receives 1.5x wage for hours above 40"
   ]
  },
  {
   "cell_type": "markdown",
   "id": "ed0a1e54",
   "metadata": {},
   "source": [
    "### A try/except is used to confirm a numeric input"
   ]
  },
  {
   "cell_type": "code",
   "execution_count": 12,
   "id": "9c0f1418",
   "metadata": {},
   "outputs": [
    {
     "name": "stdout",
     "output_type": "stream",
     "text": [
      "Enter hours: 50\n",
      "Enter rate:  two\n",
      "Please enter a numeric value!\n"
     ]
    }
   ],
   "source": [
    "error = \"Please enter a numeric value!\"\n",
    "\n",
    "hours = input(\"Enter hours: \")\n",
    "try:\n",
    "    hours = int(hours)\n",
    "    rate = input(\"Enter rate: \")\n",
    "    try:\n",
    "        rate = int(rate)\n",
    "    except:\n",
    "        rate = -1\n",
    "except:\n",
    "    hours = -1\n",
    "\n",
    "if hours > 0 and rate > 0:\n",
    "    n = 40.0\n",
    "    if hours > n:\n",
    "        above_40 = (hours - n)*rate*1.5\n",
    "        pay = (n*rate) + above_40\n",
    "        print(\"Pay: \", pay)\n",
    "    elif hours <= n:\n",
    "        pay = hours*rate\n",
    "        print(\"Pay: \", pay)\n",
    "else:\n",
    "    print(error)\n",
    "    "
   ]
  },
  {
   "cell_type": "code",
   "execution_count": null,
   "id": "9a727724",
   "metadata": {},
   "outputs": [],
   "source": []
  }
 ],
 "metadata": {
  "kernelspec": {
   "display_name": "Python 3 (ipykernel)",
   "language": "python",
   "name": "python3"
  },
  "language_info": {
   "codemirror_mode": {
    "name": "ipython",
    "version": 3
   },
   "file_extension": ".py",
   "mimetype": "text/x-python",
   "name": "python",
   "nbconvert_exporter": "python",
   "pygments_lexer": "ipython3",
   "version": "3.9.12"
  }
 },
 "nbformat": 4,
 "nbformat_minor": 5
}
